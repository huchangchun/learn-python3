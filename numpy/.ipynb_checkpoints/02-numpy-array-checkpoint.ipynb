{
 "cells": [
  {
   "cell_type": "code",
   "execution_count": 4,
   "metadata": {},
   "outputs": [],
   "source": [
    "import numpy as np"
   ]
  },
  {
   "cell_type": "code",
   "execution_count": 17,
   "metadata": {},
   "outputs": [
    {
     "name": "stdout",
     "output_type": "stream",
     "text": [
      "[[[5 4 2]\n",
      "  [1 7 2]\n",
      "  [6 7 5]]\n",
      "\n",
      " [[4 2 3]\n",
      "  [2 2 5]\n",
      "  [7 6 7]]\n",
      "\n",
      " [[2 4 5]\n",
      "  [4 3 7]\n",
      "  [5 4 3]]]\n",
      "3\n",
      "(3, 3, 3)\n",
      "int32\n",
      "4\n",
      "27\n"
     ]
    }
   ],
   "source": [
    "#ndimndim数组轴（维度）的个数，轴的个数被称为秩\n",
    "arr=np.random.randint(1,9,size=(3,3,3))\n",
    "print(arr)\n",
    "print(arr.ndim)  #维数\n",
    "print(arr.shape)\n",
    "print(arr.dtype)\n",
    "print(arr.itemsize)  \n",
    "print(arr.size)"
   ]
  },
  {
   "cell_type": "code",
   "execution_count": 18,
   "metadata": {},
   "outputs": [],
   "source": [
    "arr2=np.array([1,2,3,4])"
   ]
  },
  {
   "cell_type": "code",
   "execution_count": 19,
   "metadata": {},
   "outputs": [
    {
     "name": "stdout",
     "output_type": "stream",
     "text": [
      "int32\n"
     ]
    }
   ],
   "source": [
    "print(arr2.dtype)"
   ]
  },
  {
   "cell_type": "code",
   "execution_count": 22,
   "metadata": {},
   "outputs": [
    {
     "name": "stdout",
     "output_type": "stream",
     "text": [
      "float64\n",
      "float32\n"
     ]
    }
   ],
   "source": [
    "arr3=arr2.astype(float)\n",
    "arr4=arr2.astype('f4')\n",
    "print(arr3.dtype)\n",
    "print(arr4.dtype)"
   ]
  },
  {
   "cell_type": "code",
   "execution_count": 25,
   "metadata": {},
   "outputs": [
    {
     "name": "stdout",
     "output_type": "stream",
     "text": [
      "float64\n"
     ]
    }
   ],
   "source": [
    "arr2=np.array([1,2,3,4],dtype=float)\n",
    "print(arr2.dtype)"
   ]
  },
  {
   "cell_type": "code",
   "execution_count": 26,
   "metadata": {},
   "outputs": [
    {
     "data": {
      "text/plain": [
       "array(['Python', 'java', 'C'],\n",
       "      dtype='<U6')"
      ]
     },
     "execution_count": 26,
     "metadata": {},
     "output_type": "execute_result"
    }
   ],
   "source": [
    "np.array(['Python','java','C'])"
   ]
  },
  {
   "cell_type": "markdown",
   "metadata": {},
   "source": [
    "修改数组形状"
   ]
  },
  {
   "cell_type": "code",
   "execution_count": 33,
   "metadata": {},
   "outputs": [
    {
     "name": "stdout",
     "output_type": "stream",
     "text": [
      "[[2 5 4 5 6]\n",
      " [6 5 7 5 5]]\n",
      "(2, 5)\n",
      "[[2 5]\n",
      " [4 5]\n",
      " [6 6]\n",
      " [5 7]\n",
      " [5 5]]\n",
      "[[2 5]\n",
      " [4 5]\n",
      " [6 6]\n",
      " [5 7]\n",
      " [5 5]]\n"
     ]
    }
   ],
   "source": [
    "#shape修改\n",
    "arr = np.random.randint(1,9,size=(2,5))\n",
    "print(arr)\n",
    "print(arr.shape)\n",
    "arr.shape = (5,2)\n",
    "print(arr)\n",
    "arr.shape=(5,-1)  #-1表示自动识别\n",
    "print(arr)"
   ]
  },
  {
   "cell_type": "code",
   "execution_count": null,
   "metadata": {},
   "outputs": [],
   "source": []
  },
  {
   "cell_type": "code",
   "execution_count": null,
   "metadata": {},
   "outputs": [],
   "source": []
  },
  {
   "cell_type": "code",
   "execution_count": null,
   "metadata": {},
   "outputs": [],
   "source": []
  }
 ],
 "metadata": {
  "kernelspec": {
   "display_name": "Python 3",
   "language": "python",
   "name": "python3"
  },
  "language_info": {
   "codemirror_mode": {
    "name": "ipython",
    "version": 3
   },
   "file_extension": ".py",
   "mimetype": "text/x-python",
   "name": "python",
   "nbconvert_exporter": "python",
   "pygments_lexer": "ipython3",
   "version": "3.6.3"
  }
 },
 "nbformat": 4,
 "nbformat_minor": 2
}
