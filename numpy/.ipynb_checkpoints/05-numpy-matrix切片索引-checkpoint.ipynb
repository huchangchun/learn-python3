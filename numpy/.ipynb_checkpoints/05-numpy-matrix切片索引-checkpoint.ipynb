{
 "cells": [
  {
   "cell_type": "markdown",
   "metadata": {},
   "source": [
    "矩阵切片 索引"
   ]
  },
  {
   "cell_type": "code",
   "execution_count": 1,
   "metadata": {},
   "outputs": [],
   "source": [
    "import numpy as np"
   ]
  },
  {
   "cell_type": "code",
   "execution_count": 2,
   "metadata": {},
   "outputs": [
    {
     "data": {
      "text/plain": [
       "array([[[7, 4, 8, 6],\n",
       "        [7, 2, 8, 5],\n",
       "        [4, 3, 1, 6]],\n",
       "\n",
       "       [[1, 4, 1, 8],\n",
       "        [7, 6, 4, 7],\n",
       "        [8, 7, 3, 1]]])"
      ]
     },
     "execution_count": 2,
     "metadata": {},
     "output_type": "execute_result"
    }
   ],
   "source": [
    "arr = np.random.randint(1,9,size=(2,3,4))\n",
    "arr"
   ]
  },
  {
   "cell_type": "code",
   "execution_count": 3,
   "metadata": {},
   "outputs": [
    {
     "name": "stdout",
     "output_type": "stream",
     "text": [
      "7\n",
      "4\n"
     ]
    }
   ],
   "source": [
    "print(arr[0][0][0])\n",
    "print(arr[0][0][1])"
   ]
  },
  {
   "cell_type": "code",
   "execution_count": 4,
   "metadata": {},
   "outputs": [
    {
     "name": "stdout",
     "output_type": "stream",
     "text": [
      "[[[4 8]\n",
      "  [2 8]\n",
      "  [3 1]]\n",
      "\n",
      " [[4 1]\n",
      "  [6 4]\n",
      "  [7 3]]]\n"
     ]
    }
   ],
   "source": [
    "print(arr[:,:,1:3])  #1/2维全切，column=all,步数从1到3,步长1\n",
    "#print(arr[:,:,1:3:1])  #1/2维全切，column=all,步数从1到3,步长1"
   ]
  },
  {
   "cell_type": "code",
   "execution_count": 5,
   "metadata": {},
   "outputs": [
    {
     "name": "stdout",
     "output_type": "stream",
     "text": [
      "[[[4]\n",
      "  [2]\n",
      "  [3]]\n",
      "\n",
      " [[4]\n",
      "  [6]\n",
      "  [7]]]\n"
     ]
    }
   ],
   "source": [
    "print(arr[:,:,1:3:2])  #1/2维全切，column=all,步数从1到3,步长2"
   ]
  },
  {
   "cell_type": "code",
   "execution_count": 6,
   "metadata": {},
   "outputs": [
    {
     "name": "stdout",
     "output_type": "stream",
     "text": [
      "[[4 8]\n",
      " [2 8]\n",
      " [3 1]]\n"
     ]
    }
   ],
   "source": [
    "print(arr[0,:,1:3])  #切第1维，column=all,步数从1到3，步长1"
   ]
  },
  {
   "cell_type": "code",
   "execution_count": 7,
   "metadata": {},
   "outputs": [
    {
     "name": "stdout",
     "output_type": "stream",
     "text": [
      "[[4 1]\n",
      " [6 4]\n",
      " [7 3]]\n"
     ]
    }
   ],
   "source": [
    "print(arr[1,:,1:3])  #切第2维，column=all,步数从1到3，步长1"
   ]
  },
  {
   "cell_type": "code",
   "execution_count": 8,
   "metadata": {},
   "outputs": [
    {
     "name": "stdout",
     "output_type": "stream",
     "text": [
      "[[2 8]\n",
      " [6 4]]\n"
     ]
    }
   ],
   "source": [
    "print(arr[:,1,1:3]) #1/2维全切，column=1,步数从1到3，步长1"
   ]
  },
  {
   "cell_type": "code",
   "execution_count": 9,
   "metadata": {},
   "outputs": [
    {
     "name": "stdout",
     "output_type": "stream",
     "text": [
      "[[3 1]\n",
      " [7 3]]\n"
     ]
    }
   ],
   "source": [
    "print(arr[:,2,1:3]) #1/2维全切，column=2,步数从1到3，步长1"
   ]
  },
  {
   "cell_type": "code",
   "execution_count": 10,
   "metadata": {},
   "outputs": [
    {
     "name": "stdout",
     "output_type": "stream",
     "text": [
      "[7 3]\n"
     ]
    }
   ],
   "source": [
    "print(arr[1,2,1:3])"
   ]
  },
  {
   "cell_type": "code",
   "execution_count": 11,
   "metadata": {},
   "outputs": [
    {
     "name": "stdout",
     "output_type": "stream",
     "text": [
      "[[2 8]]\n"
     ]
    }
   ],
   "source": [
    "print(arr[0,1:3:2,1:3])"
   ]
  },
  {
   "cell_type": "code",
   "execution_count": null,
   "metadata": {},
   "outputs": [],
   "source": []
  }
 ],
 "metadata": {
  "kernelspec": {
   "display_name": "Python 3",
   "language": "python",
   "name": "python3"
  },
  "language_info": {
   "codemirror_mode": {
    "name": "ipython",
    "version": 3
   },
   "file_extension": ".py",
   "mimetype": "text/x-python",
   "name": "python",
   "nbconvert_exporter": "python",
   "pygments_lexer": "ipython3",
   "version": "3.6.3"
  }
 },
 "nbformat": 4,
 "nbformat_minor": 2
}
