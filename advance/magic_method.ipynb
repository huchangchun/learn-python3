{
 "cells": [
  {
   "cell_type": "markdown",
   "metadata": {},
   "source": [
    "## $__str__$函数"
   ]
  },
  {
   "cell_type": "markdown",
   "metadata": {},
   "source": [
    "$__str__$函数 \n",
    "用于处理打印实例本身的时候的输出内容，如果没有覆写该函数，则默认输出一个对应名称和内存地址。"
   ]
  },
  {
   "cell_type": "code",
   "execution_count": 4,
   "metadata": {},
   "outputs": [
    {
     "name": "stdout",
     "output_type": "stream",
     "text": [
      "<__main__.Student object at 0x0000000006C38748>\n"
     ]
    }
   ],
   "source": [
    "class Student(object):\n",
    "    def __init__(self,name):\n",
    "        self._name = name\n",
    "print(Student(\"Tom\"))"
   ]
  },
  {
   "cell_type": "markdown",
   "metadata": {},
   "source": [
    "如何让输出的结果可读性更高一点呢？我么可以覆写$__str__$函数，例如："
   ]
  },
  {
   "cell_type": "code",
   "execution_count": 7,
   "metadata": {},
   "outputs": [
    {
     "name": "stdout",
     "output_type": "stream",
     "text": [
      "I'm a student ,named Charlie\n"
     ]
    }
   ],
   "source": [
    "class Student(object):\n",
    "    def __init__(self, name):\n",
    "        self._name = name\n",
    "    def __str__(self):\n",
    "        return \"I'm a student ,named %s\" % self._name\n",
    "print(Student(\"Charlie\"))"
   ]
  },
  {
   "cell_type": "markdown",
   "metadata": {},
   "source": [
    "我们将str()函数作用于该对象的时候，其实是调用了该对象的__str__函数"
   ]
  },
  {
   "cell_type": "markdown",
   "metadata": {},
   "source": [
    "## $__repr__$函数"
   ]
  },
  {
   "cell_type": "markdown",
   "metadata": {},
   "source": [
    "$__repr__$也是将对象序列化，但是$__repr__$更多的是给python编译器看的。$__str__$更多的是可读性(readable)。\n",
    "我们将repr()函数作用于摸某一个对象的时候，调用的其实就是该函数的$__repr__$函数。\n",
    "\n",
    "与repr()成对的是eval()函数。eval()函数是将序列化后的对象重新转为对象。前提是该对象实现了$__repr__$函数。"
   ]
  },
  {
   "cell_type": "code",
   "execution_count": 8,
   "metadata": {},
   "outputs": [
    {
     "data": {
      "text/plain": [
       "'[1, 2, 3]'"
      ]
     },
     "execution_count": 8,
     "metadata": {},
     "output_type": "execute_result"
    }
   ],
   "source": [
    "item = [1,2,3]\n",
    "repr(item)"
   ]
  },
  {
   "cell_type": "code",
   "execution_count": 9,
   "metadata": {},
   "outputs": [
    {
     "data": {
      "text/plain": [
       "2"
      ]
     },
     "execution_count": 9,
     "metadata": {},
     "output_type": "execute_result"
    }
   ],
   "source": [
    "other_item = eval(repr(item))\n",
    "other_item[1]"
   ]
  },
  {
   "cell_type": "markdown",
   "metadata": {},
   "source": [
    "## $__iter__$函数"
   ]
  },
  {
   "cell_type": "markdown",
   "metadata": {},
   "source": [
    "我们经常对list或者tuples使用for..in...来迭代，那是list继承自Iterable,Iterable实现了$__iter__$函数，要想将一\n",
    "自定义的对象编程一个可迭代的对象，那么必须要实现两个方法：$__iter__$和$__next__$$.\n",
    "$__iter__$函数返回一个对象，迭代的时候则会不断地调用next函数拿到下一个值，直到捕获到StopIteration停止。"
   ]
  },
  {
   "cell_type": "code",
   "execution_count": 43,
   "metadata": {},
   "outputs": [
    {
     "name": "stdout",
     "output_type": "stream",
     "text": [
      "1\n",
      "1\n",
      "2\n",
      "3\n",
      "5\n",
      "8\n",
      "13\n",
      "21\n",
      "34\n",
      "55\n",
      "89\n"
     ]
    }
   ],
   "source": [
    "class Fib(object):\n",
    "    def __init__(self):\n",
    "        self.a, self.b = 0,1\n",
    "    def __iter__(self):\n",
    "        return self\n",
    "    def __next__(self):\n",
    "        self.a,self.b = self.b,self.a + self.b\n",
    "        if self.a > 100:\n",
    "            raise StopIteration\n",
    "        return self.a\n",
    "for i in Fib():\n",
    "    print(i)"
   ]
  },
  {
   "cell_type": "markdown",
   "metadata": {},
   "source": [
    "## $__getitem__$函数"
   ]
  },
  {
   "cell_type": "markdown",
   "metadata": {},
   "source": [
    "上面通过实现$__iter__$函数实现对象的迭代。\n",
    "那么怎么实现对象按下标去除元素呢。"
   ]
  },
  {
   "cell_type": "code",
   "execution_count": 13,
   "metadata": {},
   "outputs": [
    {
     "name": "stdout",
     "output_type": "stream",
     "text": [
      "3\n"
     ]
    }
   ],
   "source": [
    "class Mylist(object):\n",
    "    def __init__(self, *args):\n",
    "        self.numbers = args\n",
    "    def __getitem__(self, item):\n",
    "        return self.numbers[item]\n",
    "my_list = Mylist(1,2,3,4,5,6,3)\n",
    "print(my_list[2])"
   ]
  },
  {
   "cell_type": "markdown",
   "metadata": {},
   "source": [
    "当然列表还有切片功能,例如：my_list[1:3],此时函数获取的并不是int而是slice对象。"
   ]
  },
  {
   "cell_type": "code",
   "execution_count": 18,
   "metadata": {},
   "outputs": [
    {
     "name": "stdout",
     "output_type": "stream",
     "text": [
      "(3, 4, 5)\n"
     ]
    }
   ],
   "source": [
    "class Mylist(object):\n",
    "    def __init__(self, *args):\n",
    "        self.numbers = args\n",
    "    def __getitem__(self, item):\n",
    "        if isinstance(item,int):\n",
    "            return self.numbers[item]\n",
    "        elif isinstance(item,slice):\n",
    "            start = item.start if item.start is not None else 0\n",
    "            stop = item.stop if item.stop is not None else len(self.numbers)\n",
    "            return self.numbers[start:stop]\n",
    "my_list = Mylist(1,2,3,4,5,6,7)\n",
    "print(my_list[2:5])"
   ]
  },
  {
   "cell_type": "markdown",
   "metadata": {},
   "source": [
    "上面代码实现了切片功能，但是没有考虑负数"
   ]
  },
  {
   "cell_type": "code",
   "execution_count": 19,
   "metadata": {},
   "outputs": [
    {
     "name": "stdout",
     "output_type": "stream",
     "text": [
      "(2, 3, 4, 5, 6, 7)\n"
     ]
    }
   ],
   "source": [
    "class Mylist(object):\n",
    "    def __init__(self, *args):\n",
    "        self.numbers = args\n",
    "    def __getitem__(self, item):\n",
    "        if isinstance(item,int):\n",
    "            return self.numbers[item]\n",
    "        elif isinstance(item,slice):\n",
    "            start = item.start if item.start is not None else 0\n",
    "            stop = item.stop if item.stop is not None else len(self.numbers)\n",
    "            length = len(self.numbers)\n",
    "            start = start + length + 1 if start < 0 else start\n",
    "            stop = stop + length + 1 if stop < 0 else stop\n",
    "            return self.numbers[start:stop]\n",
    "my_list = Mylist(1,2,3,4,5,6,7)\n",
    "print(my_list[1:-1])"
   ]
  },
  {
   "cell_type": "markdown",
   "metadata": {},
   "source": [
    "## $__getattr__$函数"
   ]
  },
  {
   "cell_type": "markdown",
   "metadata": {},
   "source": [
    "在调用某个对象不存在的属性或者方法的时候，会跑出一个一个AttributeError错误。\n",
    "但是如果我们实现了类中的魔术方法$__getattr__$,那么在调用不存在的属性或者方法的时候，就会调用该魔术方法"
   ]
  },
  {
   "cell_type": "code",
   "execution_count": 21,
   "metadata": {},
   "outputs": [
    {
     "name": "stdout",
     "output_type": "stream",
     "text": [
      "None\n",
      "<function Apple.__getattr__.<locals>.<lambda> at 0x0000000006C4B378>\n"
     ]
    }
   ],
   "source": [
    "class Apple(object):\n",
    "    def __getattr__(self, item):\n",
    "        if item == \"attr1\":\n",
    "            return \"print\"\n",
    "        if item == \"method1\":\n",
    "            return lambda x: \"hello %s\" % x\n",
    "apple = Apple()\n",
    "print(apple.attar1)\n",
    "print(apple.method1)"
   ]
  },
  {
   "cell_type": "markdown",
   "metadata": {},
   "source": [
    "$__getattr__$函数一个重要的适用场景就是实现链式调用，例如我们在调用某一个api的时候："
   ]
  },
  {
   "cell_type": "markdown",
   "metadata": {},
   "source": [
    "GET users/articles/index"
   ]
  },
  {
   "cell_type": "markdown",
   "metadata": {},
   "source": [
    "那么我们就希望我们的代码可以实现`Api.users.articles.index这么调用。\n",
    "思考一下，要实现链式调用，最重要的就是每一个调用都是返回一个实例～～。"
   ]
  },
  {
   "cell_type": "code",
   "execution_count": 29,
   "metadata": {},
   "outputs": [
    {
     "name": "stdout",
     "output_type": "stream",
     "text": [
      "/user\n",
      "/user/articles\n",
      "/user/articles/index\n",
      "/user/articles/index\n"
     ]
    }
   ],
   "source": [
    "class Api(object):\n",
    "    def __init__(self, path=''):\n",
    "        self._path = path\n",
    "    def __getattr__(self, name):\n",
    "        print(\"%s/%s\" % (self._path, name))\n",
    "        return Api(\"%s/%s\" % (self._path, name))\n",
    "    def post(self):\n",
    "        print(self._path)\n",
    "api = Api()\n",
    "api.user.articles.index.post()"
   ]
  },
  {
   "cell_type": "code",
   "execution_count": 28,
   "metadata": {},
   "outputs": [
    {
     "name": "stdout",
     "output_type": "stream",
     "text": [
      "('yes', 'no')\n"
     ]
    }
   ],
   "source": [
    "class Apple(object):\n",
    "    def __call__(self, *args, **kwargs):\n",
    "        return args\n",
    "\n",
    "\n",
    "apple = Apple()\n",
    "print(apple(\"yes\", \"no\"))"
   ]
  },
  {
   "cell_type": "code",
   "execution_count": 26,
   "metadata": {},
   "outputs": [
    {
     "name": "stdout",
     "output_type": "stream",
     "text": [
      "/user/articles/index\n"
     ]
    }
   ],
   "source": [
    "class Api(object):\n",
    "    def __init__(self, path=''):\n",
    "        self._path = path\n",
    "    def __getattr__(self, name):\n",
    "        return Api(\"%s/%s\" % (self._path, name))\n",
    "    def __call__(self, args):\n",
    "        self._path = \"%s/%s\" % (self._path, args)\n",
    "        return Api(self._path)\n",
    "    def post(self):\n",
    "        print(self._path)\n",
    "api = Api()\n",
    "api.user(\"articles\").index.post()"
   ]
  },
  {
   "cell_type": "code",
   "execution_count": 41,
   "metadata": {},
   "outputs": [
    {
     "name": "stdout",
     "output_type": "stream",
     "text": [
      "Slow!\n",
      "('Done ,it costs:', 0.06800413131713867)\n",
      "Fast!\n",
      "('Done,it costs:', 0.05500292778015137)\n"
     ]
    }
   ],
   "source": [
    "import time\n",
    "import wrapt \n",
    "def decorator(eps):\n",
    "    @wrapt.decorator\n",
    "    def wrapper(func, instance, args, kwargs):\n",
    "        t = time.time()\n",
    "        ans = func(*args ,**kwargs)\n",
    "        t = time.time() - t\n",
    "        if t > eps:print(\"Slow!\")\n",
    "        else:print(\"Fast!\")\n",
    "        return ans,t\n",
    "    return wrapper\n",
    "@decorator(0.01)\n",
    "def func1():\n",
    "    for _ in range(10**6):\n",
    "        x = 0\n",
    "    return \"Done ,it costs:\"\n",
    "@decorator(0.07)\n",
    "def func2():\n",
    "    for _ in range(10**6):\n",
    "        x = 0\n",
    "    return \"Done,it costs:\"\n",
    "print(func1())\n",
    "print(func2())"
   ]
  }
 ],
 "metadata": {
  "kernelspec": {
   "display_name": "Python 3",
   "language": "python",
   "name": "python3"
  },
  "language_info": {
   "codemirror_mode": {
    "name": "ipython",
    "version": 3
   },
   "file_extension": ".py",
   "mimetype": "text/x-python",
   "name": "python",
   "nbconvert_exporter": "python",
   "pygments_lexer": "ipython3",
   "version": "3.6.2"
  }
 },
 "nbformat": 4,
 "nbformat_minor": 2
}
